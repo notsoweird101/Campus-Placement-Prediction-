{
 "cells": [
  {
   "cell_type": "code",
   "execution_count": 1,
   "id": "9d0934f7-b907-4455-ad47-9cc400e64d0b",
   "metadata": {},
   "outputs": [],
   "source": [
    "import pandas as pd\n"
   ]
  },
  {
   "cell_type": "code",
   "execution_count": 3,
   "id": "457177d1-896e-4312-9240-3f3d8606252e",
   "metadata": {},
   "outputs": [],
   "source": [
    "from sklearn.preprocessing import LabelEncoder\n",
    "from sklearn.preprocessing import StandardScaler\n",
    "from sklearn.model_selection import train_test_split\n",
    "from sklearn.linear_model import LogisticRegression\n",
    "from sklearn.naive_bayes import GaussianNB,BernoulliNB\n",
    "from sklearn import svm\n",
    "from sklearn.metrics import accuracy_score, confusion_matrix, classification_report"
   ]
  },
  {
   "cell_type": "code",
   "execution_count": 4,
   "id": "84d95d9b-62e6-49fe-b80a-ef1949c85cfa",
   "metadata": {},
   "outputs": [],
   "source": [
    "data=pd.read_csv(\"dataset.csv\")"
   ]
  },
  {
   "cell_type": "code",
   "execution_count": 5,
   "id": "e1ebff0b-8f3f-4fbd-8c7b-174bcf346e1a",
   "metadata": {},
   "outputs": [
    {
     "data": {
      "text/html": [
       "<div>\n",
       "<style scoped>\n",
       "    .dataframe tbody tr th:only-of-type {\n",
       "        vertical-align: middle;\n",
       "    }\n",
       "\n",
       "    .dataframe tbody tr th {\n",
       "        vertical-align: top;\n",
       "    }\n",
       "\n",
       "    .dataframe thead th {\n",
       "        text-align: right;\n",
       "    }\n",
       "</style>\n",
       "<table border=\"1\" class=\"dataframe\">\n",
       "  <thead>\n",
       "    <tr style=\"text-align: right;\">\n",
       "      <th></th>\n",
       "      <th>RegNo.</th>\n",
       "      <th>Quants</th>\n",
       "      <th>LogicalReasoning</th>\n",
       "      <th>Verbal</th>\n",
       "      <th>Programming</th>\n",
       "      <th>CGPA</th>\n",
       "      <th>Networking</th>\n",
       "      <th>CloudComp</th>\n",
       "      <th>WebServices</th>\n",
       "      <th>DataAnalytics</th>\n",
       "      <th>QualityAssurance</th>\n",
       "      <th>AI</th>\n",
       "      <th>Placed</th>\n",
       "    </tr>\n",
       "  </thead>\n",
       "  <tbody>\n",
       "    <tr>\n",
       "      <th>0</th>\n",
       "      <td>T150054001</td>\n",
       "      <td>11</td>\n",
       "      <td>11</td>\n",
       "      <td>10</td>\n",
       "      <td>11</td>\n",
       "      <td>10.00</td>\n",
       "      <td>4.3</td>\n",
       "      <td>8.2</td>\n",
       "      <td>8.4</td>\n",
       "      <td>8.3</td>\n",
       "      <td>8.1</td>\n",
       "      <td>8.0</td>\n",
       "      <td>1</td>\n",
       "    </tr>\n",
       "    <tr>\n",
       "      <th>1</th>\n",
       "      <td>T150054002</td>\n",
       "      <td>8</td>\n",
       "      <td>10</td>\n",
       "      <td>11</td>\n",
       "      <td>18</td>\n",
       "      <td>8.80</td>\n",
       "      <td>8.9</td>\n",
       "      <td>8.0</td>\n",
       "      <td>8.0</td>\n",
       "      <td>8.0</td>\n",
       "      <td>8.3</td>\n",
       "      <td>9.4</td>\n",
       "      <td>1</td>\n",
       "    </tr>\n",
       "    <tr>\n",
       "      <th>2</th>\n",
       "      <td>T150054003</td>\n",
       "      <td>11</td>\n",
       "      <td>11</td>\n",
       "      <td>10</td>\n",
       "      <td>8</td>\n",
       "      <td>9.63</td>\n",
       "      <td>8.4</td>\n",
       "      <td>8.0</td>\n",
       "      <td>8.0</td>\n",
       "      <td>8.0</td>\n",
       "      <td>8.0</td>\n",
       "      <td>5.4</td>\n",
       "      <td>1</td>\n",
       "    </tr>\n",
       "    <tr>\n",
       "      <th>3</th>\n",
       "      <td>T150054004</td>\n",
       "      <td>14</td>\n",
       "      <td>13</td>\n",
       "      <td>8</td>\n",
       "      <td>8</td>\n",
       "      <td>6.55</td>\n",
       "      <td>4.5</td>\n",
       "      <td>6.5</td>\n",
       "      <td>6.9</td>\n",
       "      <td>3.3</td>\n",
       "      <td>4.1</td>\n",
       "      <td>4.6</td>\n",
       "      <td>0</td>\n",
       "    </tr>\n",
       "    <tr>\n",
       "      <th>4</th>\n",
       "      <td>T150054005</td>\n",
       "      <td>10</td>\n",
       "      <td>7</td>\n",
       "      <td>7</td>\n",
       "      <td>10</td>\n",
       "      <td>7.27</td>\n",
       "      <td>3.1</td>\n",
       "      <td>5.6</td>\n",
       "      <td>6.7</td>\n",
       "      <td>4.6</td>\n",
       "      <td>2.7</td>\n",
       "      <td>4.4</td>\n",
       "      <td>0</td>\n",
       "    </tr>\n",
       "  </tbody>\n",
       "</table>\n",
       "</div>"
      ],
      "text/plain": [
       "       RegNo.  Quants  LogicalReasoning  Verbal  Programming   CGPA  \\\n",
       "0  T150054001      11                11      10           11  10.00   \n",
       "1  T150054002       8                10      11           18   8.80   \n",
       "2  T150054003      11                11      10            8   9.63   \n",
       "3  T150054004      14                13       8            8   6.55   \n",
       "4  T150054005      10                 7       7           10   7.27   \n",
       "\n",
       "   Networking  CloudComp  WebServices  DataAnalytics  QualityAssurance   AI  \\\n",
       "0         4.3        8.2          8.4            8.3               8.1  8.0   \n",
       "1         8.9        8.0          8.0            8.0               8.3  9.4   \n",
       "2         8.4        8.0          8.0            8.0               8.0  5.4   \n",
       "3         4.5        6.5          6.9            3.3               4.1  4.6   \n",
       "4         3.1        5.6          6.7            4.6               2.7  4.4   \n",
       "\n",
       "   Placed  \n",
       "0       1  \n",
       "1       1  \n",
       "2       1  \n",
       "3       0  \n",
       "4       0  "
      ]
     },
     "execution_count": 5,
     "metadata": {},
     "output_type": "execute_result"
    }
   ],
   "source": [
    "data.head()"
   ]
  },
  {
   "cell_type": "code",
   "execution_count": 8,
   "id": "ff64b524-f5ca-415b-9e10-426519640683",
   "metadata": {},
   "outputs": [
    {
     "data": {
      "text/plain": [
       "(330, 13)"
      ]
     },
     "execution_count": 8,
     "metadata": {},
     "output_type": "execute_result"
    }
   ],
   "source": [
    "data.shape"
   ]
  },
  {
   "cell_type": "code",
   "execution_count": 9,
   "id": "c1ed32a5-58f8-4f36-9f64-4124e3ad5e19",
   "metadata": {},
   "outputs": [
    {
     "name": "stdout",
     "output_type": "stream",
     "text": [
      "<class 'pandas.core.frame.DataFrame'>\n",
      "RangeIndex: 330 entries, 0 to 329\n",
      "Data columns (total 13 columns):\n",
      " #   Column            Non-Null Count  Dtype  \n",
      "---  ------            --------------  -----  \n",
      " 0   RegNo.            330 non-null    object \n",
      " 1   Quants            330 non-null    int64  \n",
      " 2   LogicalReasoning  330 non-null    int64  \n",
      " 3   Verbal            330 non-null    int64  \n",
      " 4   Programming       330 non-null    int64  \n",
      " 5   CGPA              330 non-null    float64\n",
      " 6   Networking        330 non-null    float64\n",
      " 7   CloudComp         330 non-null    float64\n",
      " 8   WebServices       330 non-null    float64\n",
      " 9   DataAnalytics     330 non-null    float64\n",
      " 10  QualityAssurance  330 non-null    float64\n",
      " 11  AI                330 non-null    float64\n",
      " 12  Placed            330 non-null    int64  \n",
      "dtypes: float64(7), int64(5), object(1)\n",
      "memory usage: 33.6+ KB\n"
     ]
    }
   ],
   "source": [
    "data.info()"
   ]
  },
  {
   "cell_type": "code",
   "execution_count": 10,
   "id": "50bf903f-5948-4c0c-b40b-e6b071b78126",
   "metadata": {},
   "outputs": [
    {
     "data": {
      "text/plain": [
       "RegNo.              0\n",
       "Quants              0\n",
       "LogicalReasoning    0\n",
       "Verbal              0\n",
       "Programming         0\n",
       "CGPA                0\n",
       "Networking          0\n",
       "CloudComp           0\n",
       "WebServices         0\n",
       "DataAnalytics       0\n",
       "QualityAssurance    0\n",
       "AI                  0\n",
       "Placed              0\n",
       "dtype: int64"
      ]
     },
     "execution_count": 10,
     "metadata": {},
     "output_type": "execute_result"
    }
   ],
   "source": [
    "data.isnull().sum()"
   ]
  },
  {
   "cell_type": "code",
   "execution_count": 11,
   "id": "cb3c3698-0a88-49ba-8685-3c7bd6c6b833",
   "metadata": {},
   "outputs": [],
   "source": [
    "import matplotlib.pyplot as plt\n",
    "import seaborn as sns"
   ]
  },
  {
   "cell_type": "code",
   "execution_count": 15,
   "id": "dccad63c-f987-454d-a3a7-5f55b20d4308",
   "metadata": {},
   "outputs": [
    {
     "ename": "NameError",
     "evalue": "name 'dataset' is not defined",
     "output_type": "error",
     "traceback": [
      "\u001b[1;31m---------------------------------------------------------------------------\u001b[0m",
      "\u001b[1;31mNameError\u001b[0m                                 Traceback (most recent call last)",
      "Cell \u001b[1;32mIn[15], line 2\u001b[0m\n\u001b[0;32m      1\u001b[0m plt\u001b[38;5;241m.\u001b[39mfigure(figsize\u001b[38;5;241m=\u001b[39m(\u001b[38;5;241m20\u001b[39m,\u001b[38;5;241m10\u001b[39m))\n\u001b[1;32m----> 2\u001b[0m sns\u001b[38;5;241m.\u001b[39mheatmap(\u001b[43mdataset\u001b[49m\u001b[38;5;241m.\u001b[39mcorr()\u001b[38;5;241m.\u001b[39mabs(), annot\u001b[38;5;241m=\u001b[39m\u001b[38;5;28;01mTrue\u001b[39;00m)\n",
      "\u001b[1;31mNameError\u001b[0m: name 'dataset' is not defined"
     ]
    },
    {
     "data": {
      "text/plain": [
       "<Figure size 2000x1000 with 0 Axes>"
      ]
     },
     "metadata": {},
     "output_type": "display_data"
    }
   ],
   "source": [
    "plt.figure(figsize=(20,10))\n",
    "sns.heatmap(dataset.corr().abs(), annot=True)\n"
   ]
  }
 ],
 "metadata": {
  "kernelspec": {
   "display_name": "Python 3 (ipykernel)",
   "language": "python",
   "name": "python3"
  },
  "language_info": {
   "codemirror_mode": {
    "name": "ipython",
    "version": 3
   },
   "file_extension": ".py",
   "mimetype": "text/x-python",
   "name": "python",
   "nbconvert_exporter": "python",
   "pygments_lexer": "ipython3",
   "version": "3.12.0"
  }
 },
 "nbformat": 4,
 "nbformat_minor": 5
}
